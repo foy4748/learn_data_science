{
 "cells": [
  {
   "cell_type": "markdown",
   "id": "0a41af9d-6260-4955-a7b5-4508d7a295a6",
   "metadata": {},
   "source": [
    "### Import packages and dataset"
   ]
  },
  {
   "cell_type": "code",
   "execution_count": 27,
   "id": "4489bf01-5173-4e2b-a70d-7eee4331217a",
   "metadata": {},
   "outputs": [
    {
     "data": {
      "text/html": [
       "<div>\n",
       "<style scoped>\n",
       "    .dataframe tbody tr th:only-of-type {\n",
       "        vertical-align: middle;\n",
       "    }\n",
       "\n",
       "    .dataframe tbody tr th {\n",
       "        vertical-align: top;\n",
       "    }\n",
       "\n",
       "    .dataframe thead th {\n",
       "        text-align: right;\n",
       "    }\n",
       "</style>\n",
       "<table border=\"1\" class=\"dataframe\">\n",
       "  <thead>\n",
       "    <tr style=\"text-align: right;\">\n",
       "      <th></th>\n",
       "      <th>Item</th>\n",
       "      <th>Cost (BDT)</th>\n",
       "      <th>Date</th>\n",
       "    </tr>\n",
       "  </thead>\n",
       "  <tbody>\n",
       "    <tr>\n",
       "      <th>0</th>\n",
       "      <td>Gadgets</td>\n",
       "      <td>30.0</td>\n",
       "      <td>2024-05-31</td>\n",
       "    </tr>\n",
       "    <tr>\n",
       "      <th>1</th>\n",
       "      <td>Snacks</td>\n",
       "      <td>20.0</td>\n",
       "      <td>2024-05-31</td>\n",
       "    </tr>\n",
       "    <tr>\n",
       "      <th>2</th>\n",
       "      <td>Breakfast</td>\n",
       "      <td>30.0</td>\n",
       "      <td>2024-05-31</td>\n",
       "    </tr>\n",
       "    <tr>\n",
       "      <th>3</th>\n",
       "      <td>Snacks</td>\n",
       "      <td>40.0</td>\n",
       "      <td>2024-05-31</td>\n",
       "    </tr>\n",
       "    <tr>\n",
       "      <th>4</th>\n",
       "      <td>Snacks</td>\n",
       "      <td>35.0</td>\n",
       "      <td>2024-05-31</td>\n",
       "    </tr>\n",
       "    <tr>\n",
       "      <th>...</th>\n",
       "      <td>...</td>\n",
       "      <td>...</td>\n",
       "      <td>...</td>\n",
       "    </tr>\n",
       "    <tr>\n",
       "      <th>695</th>\n",
       "      <td>Snacks</td>\n",
       "      <td>30</td>\n",
       "      <td>2023-07-18</td>\n",
       "    </tr>\n",
       "    <tr>\n",
       "      <th>696</th>\n",
       "      <td>Breakfast</td>\n",
       "      <td>45</td>\n",
       "      <td>2023-07-18</td>\n",
       "    </tr>\n",
       "    <tr>\n",
       "      <th>697</th>\n",
       "      <td>Internet Bill</td>\n",
       "      <td>125</td>\n",
       "      <td>2023-07-18</td>\n",
       "    </tr>\n",
       "    <tr>\n",
       "      <th>698</th>\n",
       "      <td>Snacks</td>\n",
       "      <td>10</td>\n",
       "      <td>2023-07-17</td>\n",
       "    </tr>\n",
       "    <tr>\n",
       "      <th>699</th>\n",
       "      <td>Live MCQ Subscription</td>\n",
       "      <td>1200</td>\n",
       "      <td>2023-07-10</td>\n",
       "    </tr>\n",
       "  </tbody>\n",
       "</table>\n",
       "<p>700 rows × 3 columns</p>\n",
       "</div>"
      ],
      "text/plain": [
       "                      Item Cost (BDT)       Date\n",
       "0                  Gadgets       30.0 2024-05-31\n",
       "1                   Snacks       20.0 2024-05-31\n",
       "2                Breakfast       30.0 2024-05-31\n",
       "3                   Snacks       40.0 2024-05-31\n",
       "4                   Snacks       35.0 2024-05-31\n",
       "..                     ...        ...        ...\n",
       "695                 Snacks         30 2023-07-18\n",
       "696              Breakfast         45 2023-07-18\n",
       "697          Internet Bill        125 2023-07-18\n",
       "698                 Snacks         10 2023-07-17\n",
       "699  Live MCQ Subscription       1200 2023-07-10\n",
       "\n",
       "[700 rows x 3 columns]"
      ]
     },
     "execution_count": 27,
     "metadata": {},
     "output_type": "execute_result"
    }
   ],
   "source": [
    "import pandas as pd\n",
    "from openpyxl import load_workbook\n",
    "\n",
    "sheet_names = load_workbook(filename=\"./data/Expenses.xlsx\").sheetnames\n",
    "\n",
    "read_excel_file = pd.read_excel(\"./data/Expenses.xlsx\", \n",
    "                                sheet_name=sheet_names[2:], \n",
    "                                usecols=[0,1,2], \n",
    "                                header=4, \n",
    "                                converters={\"Cost (BDT)\": lambda x: 0 if pd.isna(x) else x})\n",
    "\n",
    "df = pd.concat(read_excel_file, ignore_index=True)\n",
    "df"
   ]
  },
  {
   "cell_type": "markdown",
   "id": "d40a6599-ef20-4351-95ba-b8fd11ba7347",
   "metadata": {},
   "source": [
    "### Handling Missing Data"
   ]
  },
  {
   "cell_type": "code",
   "execution_count": null,
   "id": "712b4434-8d14-4715-80b8-91fdcfcc798b",
   "metadata": {},
   "outputs": [],
   "source": []
  },
  {
   "cell_type": "code",
   "execution_count": null,
   "id": "5c4425d3-cbcf-4cc0-b1c6-0ba298df59fb",
   "metadata": {},
   "outputs": [],
   "source": []
  }
 ],
 "metadata": {
  "kernelspec": {
   "display_name": "Python 3 (ipykernel)",
   "language": "python",
   "name": "python3"
  },
  "language_info": {
   "codemirror_mode": {
    "name": "ipython",
    "version": 3
   },
   "file_extension": ".py",
   "mimetype": "text/x-python",
   "name": "python",
   "nbconvert_exporter": "python",
   "pygments_lexer": "ipython3",
   "version": "3.11.2"
  }
 },
 "nbformat": 4,
 "nbformat_minor": 5
}
