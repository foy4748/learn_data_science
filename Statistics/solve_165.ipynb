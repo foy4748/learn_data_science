{
 "cells": [
  {
   "cell_type": "markdown",
   "id": "4350e00c-5f85-4bbd-b49c-aa84a26c1c71",
   "metadata": {},
   "source": [
    "- Importing modules\n",
    "- Importing Data from json"
   ]
  },
  {
   "cell_type": "code",
   "execution_count": 1,
   "id": "529b8f13-1332-44c1-961a-d75ea53d190b",
   "metadata": {},
   "outputs": [],
   "source": [
    "import pandas as pd\n",
    "import os, bisect, math\n",
    "\n",
    "data_file_path = os.path.abspath(\"./data/data_165.json\")\n",
    "\n",
    "# Tested using the book's example at page 125\n",
    "# data_file_path = os.path.abspath(\"./data/data_125.csv\")\n",
    "\n",
    "df = pd.read_json(data_file_path)\n",
    "\n",
    "# Tested using the book's example at page 125\n",
    "# df = pd.read_csv(data_file_path)"
   ]
  },
  {
   "cell_type": "markdown",
   "id": "f3051682-b087-48fa-8308-4a68a50dc45c",
   "metadata": {},
   "source": [
    "- Creating Midpoint column"
   ]
  },
  {
   "cell_type": "code",
   "execution_count": 2,
   "id": "6c6b9bef-db97-45b4-bdd5-b2b7ec37906b",
   "metadata": {},
   "outputs": [
    {
     "data": {
      "text/html": [
       "<div>\n",
       "<style scoped>\n",
       "    .dataframe tbody tr th:only-of-type {\n",
       "        vertical-align: middle;\n",
       "    }\n",
       "\n",
       "    .dataframe tbody tr th {\n",
       "        vertical-align: top;\n",
       "    }\n",
       "\n",
       "    .dataframe thead th {\n",
       "        text-align: right;\n",
       "    }\n",
       "</style>\n",
       "<table border=\"1\" class=\"dataframe\">\n",
       "  <thead>\n",
       "    <tr style=\"text-align: right;\">\n",
       "      <th></th>\n",
       "      <th>lower_limit</th>\n",
       "      <th>upper_limit</th>\n",
       "      <th>male_occurance</th>\n",
       "      <th>female_occurance</th>\n",
       "      <th>midpoint</th>\n",
       "    </tr>\n",
       "  </thead>\n",
       "  <tbody>\n",
       "    <tr>\n",
       "      <th>0</th>\n",
       "      <td>0</td>\n",
       "      <td>4</td>\n",
       "      <td>7963</td>\n",
       "      <td>7631</td>\n",
       "      <td>2.0</td>\n",
       "    </tr>\n",
       "    <tr>\n",
       "      <th>1</th>\n",
       "      <td>5</td>\n",
       "      <td>9</td>\n",
       "      <td>9482</td>\n",
       "      <td>9213</td>\n",
       "      <td>7.0</td>\n",
       "    </tr>\n",
       "    <tr>\n",
       "      <th>2</th>\n",
       "      <td>10</td>\n",
       "      <td>14</td>\n",
       "      <td>7175</td>\n",
       "      <td>6267</td>\n",
       "      <td>12.0</td>\n",
       "    </tr>\n",
       "    <tr>\n",
       "      <th>3</th>\n",
       "      <td>15</td>\n",
       "      <td>19</td>\n",
       "      <td>4819</td>\n",
       "      <td>4881</td>\n",
       "      <td>17.0</td>\n",
       "    </tr>\n",
       "    <tr>\n",
       "      <th>4</th>\n",
       "      <td>20</td>\n",
       "      <td>24</td>\n",
       "      <td>4356</td>\n",
       "      <td>5009</td>\n",
       "      <td>22.0</td>\n",
       "    </tr>\n",
       "  </tbody>\n",
       "</table>\n",
       "</div>"
      ],
      "text/plain": [
       "   lower_limit  upper_limit  male_occurance  female_occurance  midpoint\n",
       "0            0            4            7963              7631       2.0\n",
       "1            5            9            9482              9213       7.0\n",
       "2           10           14            7175              6267      12.0\n",
       "3           15           19            4819              4881      17.0\n",
       "4           20           24            4356              5009      22.0"
      ]
     },
     "execution_count": 2,
     "metadata": {},
     "output_type": "execute_result"
    }
   ],
   "source": [
    "df[\"midpoint\"] = (df[\"lower_limit\"] + df[\"upper_limit\"]) / 2\n",
    "df.head(5)"
   ]
  },
  {
   "cell_type": "markdown",
   "id": "5e79c5d8-c343-45a4-9faa-7421db86279a",
   "metadata": {},
   "source": [
    "- Creating Cumulative Frequency column"
   ]
  },
  {
   "cell_type": "code",
   "execution_count": 3,
   "id": "c13d957d-8bba-4416-aea4-71f8585432f5",
   "metadata": {},
   "outputs": [
    {
     "data": {
      "text/html": [
       "<div>\n",
       "<style scoped>\n",
       "    .dataframe tbody tr th:only-of-type {\n",
       "        vertical-align: middle;\n",
       "    }\n",
       "\n",
       "    .dataframe tbody tr th {\n",
       "        vertical-align: top;\n",
       "    }\n",
       "\n",
       "    .dataframe thead th {\n",
       "        text-align: right;\n",
       "    }\n",
       "</style>\n",
       "<table border=\"1\" class=\"dataframe\">\n",
       "  <thead>\n",
       "    <tr style=\"text-align: right;\">\n",
       "      <th></th>\n",
       "      <th>lower_limit</th>\n",
       "      <th>upper_limit</th>\n",
       "      <th>male_occurance</th>\n",
       "      <th>female_occurance</th>\n",
       "      <th>midpoint</th>\n",
       "      <th>cumulative_frequency_male</th>\n",
       "      <th>cumulative_frequency_female</th>\n",
       "    </tr>\n",
       "  </thead>\n",
       "  <tbody>\n",
       "    <tr>\n",
       "      <th>0</th>\n",
       "      <td>0</td>\n",
       "      <td>4</td>\n",
       "      <td>7963</td>\n",
       "      <td>7631</td>\n",
       "      <td>2.0</td>\n",
       "      <td>7963</td>\n",
       "      <td>7631</td>\n",
       "    </tr>\n",
       "    <tr>\n",
       "      <th>1</th>\n",
       "      <td>5</td>\n",
       "      <td>9</td>\n",
       "      <td>9482</td>\n",
       "      <td>9213</td>\n",
       "      <td>7.0</td>\n",
       "      <td>17445</td>\n",
       "      <td>16844</td>\n",
       "    </tr>\n",
       "    <tr>\n",
       "      <th>2</th>\n",
       "      <td>10</td>\n",
       "      <td>14</td>\n",
       "      <td>7175</td>\n",
       "      <td>6267</td>\n",
       "      <td>12.0</td>\n",
       "      <td>24620</td>\n",
       "      <td>23111</td>\n",
       "    </tr>\n",
       "    <tr>\n",
       "      <th>3</th>\n",
       "      <td>15</td>\n",
       "      <td>19</td>\n",
       "      <td>4819</td>\n",
       "      <td>4881</td>\n",
       "      <td>17.0</td>\n",
       "      <td>29439</td>\n",
       "      <td>27992</td>\n",
       "    </tr>\n",
       "    <tr>\n",
       "      <th>4</th>\n",
       "      <td>20</td>\n",
       "      <td>24</td>\n",
       "      <td>4356</td>\n",
       "      <td>5009</td>\n",
       "      <td>22.0</td>\n",
       "      <td>33795</td>\n",
       "      <td>33001</td>\n",
       "    </tr>\n",
       "    <tr>\n",
       "      <th>5</th>\n",
       "      <td>25</td>\n",
       "      <td>29</td>\n",
       "      <td>4537</td>\n",
       "      <td>4934</td>\n",
       "      <td>27.0</td>\n",
       "      <td>38332</td>\n",
       "      <td>37935</td>\n",
       "    </tr>\n",
       "    <tr>\n",
       "      <th>6</th>\n",
       "      <td>30</td>\n",
       "      <td>34</td>\n",
       "      <td>3495</td>\n",
       "      <td>3502</td>\n",
       "      <td>32.0</td>\n",
       "      <td>41827</td>\n",
       "      <td>41437</td>\n",
       "    </tr>\n",
       "    <tr>\n",
       "      <th>7</th>\n",
       "      <td>35</td>\n",
       "      <td>39</td>\n",
       "      <td>3367</td>\n",
       "      <td>2782</td>\n",
       "      <td>37.0</td>\n",
       "      <td>45194</td>\n",
       "      <td>44219</td>\n",
       "    </tr>\n",
       "    <tr>\n",
       "      <th>8</th>\n",
       "      <td>40</td>\n",
       "      <td>44</td>\n",
       "      <td>2519</td>\n",
       "      <td>2215</td>\n",
       "      <td>42.0</td>\n",
       "      <td>47713</td>\n",
       "      <td>46434</td>\n",
       "    </tr>\n",
       "    <tr>\n",
       "      <th>9</th>\n",
       "      <td>45</td>\n",
       "      <td>49</td>\n",
       "      <td>1958</td>\n",
       "      <td>1669</td>\n",
       "      <td>47.0</td>\n",
       "      <td>49671</td>\n",
       "      <td>48103</td>\n",
       "    </tr>\n",
       "  </tbody>\n",
       "</table>\n",
       "</div>"
      ],
      "text/plain": [
       "   lower_limit  upper_limit  male_occurance  female_occurance  midpoint  \\\n",
       "0            0            4            7963              7631       2.0   \n",
       "1            5            9            9482              9213       7.0   \n",
       "2           10           14            7175              6267      12.0   \n",
       "3           15           19            4819              4881      17.0   \n",
       "4           20           24            4356              5009      22.0   \n",
       "5           25           29            4537              4934      27.0   \n",
       "6           30           34            3495              3502      32.0   \n",
       "7           35           39            3367              2782      37.0   \n",
       "8           40           44            2519              2215      42.0   \n",
       "9           45           49            1958              1669      47.0   \n",
       "\n",
       "   cumulative_frequency_male  cumulative_frequency_female  \n",
       "0                       7963                         7631  \n",
       "1                      17445                        16844  \n",
       "2                      24620                        23111  \n",
       "3                      29439                        27992  \n",
       "4                      33795                        33001  \n",
       "5                      38332                        37935  \n",
       "6                      41827                        41437  \n",
       "7                      45194                        44219  \n",
       "8                      47713                        46434  \n",
       "9                      49671                        48103  "
      ]
     },
     "execution_count": 3,
     "metadata": {},
     "output_type": "execute_result"
    }
   ],
   "source": [
    "df[\"cumulative_frequency_male\"] = df[\"male_occurance\"].cumsum()\n",
    "df[\"cumulative_frequency_female\"] = df[\"female_occurance\"].cumsum()\n",
    "df.head(10)"
   ]
  },
  {
   "cell_type": "markdown",
   "id": "9f064f86-5e8f-4da9-a2cf-c1c6dce03b11",
   "metadata": {},
   "source": [
    "- Creating $f_ix_i$ column\n"
   ]
  },
  {
   "cell_type": "code",
   "execution_count": 4,
   "id": "d5f8bd3f-f5dd-41ad-90e4-5b832e21cfcf",
   "metadata": {},
   "outputs": [],
   "source": [
    "df[\"male_fx_i\"] = df[\"male_occurance\"] * df[\"midpoint\"]\n",
    "df[\"female_fx_i\"] = df[\"female_occurance\"] * df[\"midpoint\"]"
   ]
  },
  {
   "cell_type": "markdown",
   "id": "d4ea54c0-4b25-45be-8420-e410ac4b9587",
   "metadata": {},
   "source": [
    "- Calculating $n = \\sum f_i$"
   ]
  },
  {
   "cell_type": "code",
   "execution_count": 5,
   "id": "8cc2f47b-5eba-46ae-8348-c0bea6d849c0",
   "metadata": {},
   "outputs": [],
   "source": [
    "sample_size_of_male = df[\"male_occurance\"].sum()\n",
    "sample_size_of_female = df[\"female_occurance\"].sum()"
   ]
  },
  {
   "cell_type": "markdown",
   "id": "e55de6b4-70bc-4c8a-9714-36c2bd72083f",
   "metadata": {},
   "source": [
    "- Calculating $\\sum f_ix_i$"
   ]
  },
  {
   "cell_type": "code",
   "execution_count": 6,
   "id": "ce407df5-1378-440e-9310-4154ac2ac6f2",
   "metadata": {},
   "outputs": [],
   "source": [
    "sum_over_male_fx_i = df[\"male_fx_i\"].sum() \n",
    "sum_over_female_fx_i = df[\"female_fx_i\"].sum()"
   ]
  },
  {
   "cell_type": "markdown",
   "id": "47cd8035-12e3-462b-91b0-6c75c6673df9",
   "metadata": {},
   "source": [
    "- Calculating the average ages for male and female individually\n",
    "- Formula $\\bar{x} = \\frac{\\sum f_ix_i }{\\sum f_i}$"
   ]
  },
  {
   "cell_type": "code",
   "execution_count": 7,
   "id": "8cff065a-8cd1-4722-9a83-0fec9add1e63",
   "metadata": {},
   "outputs": [],
   "source": [
    "# \\bar{x_male}\n",
    "average_age_of_male = sum_over_male_fx_i / sample_size_of_male\n",
    "\n",
    "# \\bar{x_female}\n",
    "average_age_of_female = sum_over_female_fx_i / sample_size_of_female\n"
   ]
  },
  {
   "cell_type": "markdown",
   "id": "60bebdb5-6f7b-4542-8e46-d1e53157cc6e",
   "metadata": {},
   "source": [
    "- Calculating combined average\n",
    "- Formula $\\bar{x} = \\frac{n_m \\bar{x_m} + n_f \\bar{x_f}}{n_m + n_f}$"
   ]
  },
  {
   "cell_type": "code",
   "execution_count": 8,
   "id": "3b78d63d-b8a2-4456-a097-429cc54e4add",
   "metadata": {},
   "outputs": [],
   "source": [
    "combined_average_age = (\n",
    "    sample_size_of_male * average_age_of_male\n",
    "    + sample_size_of_female * average_age_of_female\n",
    ") / (sample_size_of_male + sample_size_of_female)\n"
   ]
  },
  {
   "cell_type": "markdown",
   "id": "ba87dd9c-63b1-4581-ad3f-1590c3aadfd6",
   "metadata": {},
   "source": [
    "- Printing results of Question A"
   ]
  },
  {
   "cell_type": "code",
   "execution_count": 9,
   "id": "8660e1f7-8f26-42bc-b735-d180184ef1de",
   "metadata": {},
   "outputs": [
    {
     "name": "stdout",
     "output_type": "stream",
     "text": [
      "\n",
      "average_age_of_male: 22.752962903196888\n",
      "average_age_of_female: 22.095991442405136\n",
      "combined_average_age: 22.431968017311732\n",
      "        \n"
     ]
    }
   ],
   "source": [
    "print(\n",
    "    f\"\"\"\n",
    "average_age_of_male: {average_age_of_male}\n",
    "average_age_of_female: {average_age_of_female}\n",
    "combined_average_age: {combined_average_age}\n",
    "        \"\"\"\n",
    ")"
   ]
  },
  {
   "cell_type": "markdown",
   "id": "9a272e6a-14da-4dba-9b96-d97a6ece308d",
   "metadata": {},
   "source": [
    "**Calculating 3rd Quartile**"
   ]
  },
  {
   "cell_type": "code",
   "execution_count": 10,
   "id": "62e7020f-fa84-418f-b089-a0c0f6765e9c",
   "metadata": {},
   "outputs": [
    {
     "name": "stdout",
     "output_type": "stream",
     "text": [
      "35.00408375408375 32.89762992575671\n"
     ]
    }
   ],
   "source": [
    "r = 3\n",
    "h = 5\n",
    "denominator = 4\n",
    "\n",
    "estimated_median_male = math.ceil(sample_size_of_male * r/denominator)\n",
    "estimated_median_female = math.ceil(sample_size_of_female * r/denominator)\n",
    "\n",
    "cumalitive_freq_col_male = df[\"cumulative_frequency_male\"].tolist()\n",
    "cumalitive_freq_col_female = df[\"cumulative_frequency_female\"].tolist()\n",
    "\n",
    "class_idx_male = bisect.bisect_right(cumalitive_freq_col_male, estimated_median_male)\n",
    "class_idx_female = bisect.bisect_right(cumalitive_freq_col_female, estimated_median_female)\n",
    "\n",
    "# print(\"idx\",class_idx_male,class_idx_female)\n",
    "\n",
    "lr_m = df[\"lower_limit\"].iloc[class_idx_male]\n",
    "lr_f = df[\"lower_limit\"].iloc[class_idx_female]\n",
    "# print(\"lr\",lr_m,lr_f)\n",
    "\n",
    "fr_m = df[\"male_occurance\"].iloc[class_idx_male]\n",
    "fr_f = df[\"female_occurance\"].iloc[class_idx_female]\n",
    "# print(\"fr\",fr_m,fr_f)\n",
    "\n",
    "Fr_m = df[\"cumulative_frequency_male\"].iloc[class_idx_male-1]\n",
    "Fr_f = df[\"cumulative_frequency_female\"].iloc[class_idx_female-1]\n",
    "\n",
    "# print(\"Fr_-1\",Fr_m, Fr_f)\n",
    "# print(sample_size_of_male*r/4,sample_size_of_female*r/4)\n",
    "\n",
    "Qr_m = lr_m + (h/fr_m)*(sample_size_of_male*r/denominator - Fr_m)\n",
    "Qr_f = lr_f + (h/fr_f)*(sample_size_of_female*r/denominator - Fr_f)\n",
    "\n",
    "print(Qr_m,Qr_f)"
   ]
  },
  {
   "cell_type": "markdown",
   "id": "2cb15f2b-11fa-4be2-8e20-1dbef05e1ca6",
   "metadata": {},
   "source": [
    "**Calculating Percentile**"
   ]
  },
  {
   "cell_type": "code",
   "execution_count": 11,
   "id": "5c7eb156-8ae2-4745-81ea-44c8bef728d7",
   "metadata": {},
   "outputs": [
    {
     "name": "stdout",
     "output_type": "stream",
     "text": [
      "37.488773388773396 35.226599568655644\n"
     ]
    }
   ],
   "source": [
    "r = 78\n",
    "h = 5\n",
    "denominator = 100\n",
    "\n",
    "estimated_median_male = math.ceil(sample_size_of_male * r/denominator)\n",
    "estimated_median_female = math.ceil(sample_size_of_female * r/denominator)\n",
    "\n",
    "cumalitive_freq_col_male = df[\"cumulative_frequency_male\"].tolist()\n",
    "cumalitive_freq_col_female = df[\"cumulative_frequency_female\"].tolist()\n",
    "\n",
    "class_idx_male = bisect.bisect_right(cumalitive_freq_col_male, estimated_median_male)\n",
    "class_idx_female = bisect.bisect_right(cumalitive_freq_col_female, estimated_median_female)\n",
    "\n",
    "# print(\"idx\",class_idx_male,class_idx_female)\n",
    "\n",
    "lr_m = df[\"lower_limit\"].iloc[class_idx_male]\n",
    "lr_f = df[\"lower_limit\"].iloc[class_idx_female]\n",
    "# print(\"lr\",lr_m,lr_f)\n",
    "\n",
    "fr_m = df[\"male_occurance\"].iloc[class_idx_male]\n",
    "fr_f = df[\"female_occurance\"].iloc[class_idx_female]\n",
    "# print(\"fr\",fr_m,fr_f)\n",
    "\n",
    "Fr_m = df[\"cumulative_frequency_male\"].iloc[class_idx_male-1]\n",
    "Fr_f = df[\"cumulative_frequency_female\"].iloc[class_idx_female-1]\n",
    "\n",
    "# print(\"Fr_-1\",Fr_m, Fr_f)\n",
    "# print(sample_size_of_male*r/4,sample_size_of_female*r/4)\n",
    "\n",
    "Qr_m = lr_m + (h/fr_m)*(sample_size_of_male*r/denominator - Fr_m)\n",
    "Qr_f = lr_f + (h/fr_f)*(sample_size_of_female*r/denominator - Fr_f)\n",
    "\n",
    "print(Qr_m,Qr_f)"
   ]
  },
  {
   "cell_type": "markdown",
   "id": "db0515c9-b524-4a0a-895a-1252d3f9aafd",
   "metadata": {},
   "source": [
    "**Calculating Decile**"
   ]
  },
  {
   "cell_type": "code",
   "execution_count": 12,
   "id": "1b35d685-1493-40a6-8c61-e8e351a08a8d",
   "metadata": {},
   "outputs": [
    {
     "name": "stdout",
     "output_type": "stream",
     "text": [
      "24.619834710743806 23.972449590736673\n"
     ]
    }
   ],
   "source": [
    "r = 6\n",
    "h = 5\n",
    "denominator = 10\n",
    "\n",
    "estimated_median_male = math.ceil(sample_size_of_male * r/denominator)\n",
    "estimated_median_female = math.ceil(sample_size_of_female * r/denominator)\n",
    "\n",
    "cumalitive_freq_col_male = df[\"cumulative_frequency_male\"].tolist()\n",
    "cumalitive_freq_col_female = df[\"cumulative_frequency_female\"].tolist()\n",
    "\n",
    "class_idx_male = bisect.bisect_right(cumalitive_freq_col_male, estimated_median_male)\n",
    "class_idx_female = bisect.bisect_right(cumalitive_freq_col_female, estimated_median_female)\n",
    "\n",
    "# print(\"idx\",class_idx_male,class_idx_female)\n",
    "\n",
    "lr_m = df[\"lower_limit\"].iloc[class_idx_male]\n",
    "lr_f = df[\"lower_limit\"].iloc[class_idx_female]\n",
    "# print(\"lr\",lr_m,lr_f)\n",
    "\n",
    "fr_m = df[\"male_occurance\"].iloc[class_idx_male]\n",
    "fr_f = df[\"female_occurance\"].iloc[class_idx_female]\n",
    "# print(\"fr\",fr_m,fr_f)\n",
    "\n",
    "Fr_m = df[\"cumulative_frequency_male\"].iloc[class_idx_male-1]\n",
    "Fr_f = df[\"cumulative_frequency_female\"].iloc[class_idx_female-1]\n",
    "\n",
    "# print(\"Fr_-1\",Fr_m, Fr_f)\n",
    "# print(sample_size_of_male*r/4,sample_size_of_female*r/4)\n",
    "\n",
    "Qr_m = lr_m + (h/fr_m)*(sample_size_of_male*r/denominator - Fr_m)\n",
    "Qr_f = lr_f + (h/fr_f)*(sample_size_of_female*r/denominator - Fr_f)\n",
    "\n",
    "print(Qr_m,Qr_f)"
   ]
  },
  {
   "cell_type": "code",
   "execution_count": null,
   "id": "cad7b80e-db66-4290-ad8b-57780bdbfbcc",
   "metadata": {},
   "outputs": [],
   "source": []
  }
 ],
 "metadata": {
  "kernelspec": {
   "display_name": "Python 3 (ipykernel)",
   "language": "python",
   "name": "python3"
  },
  "language_info": {
   "codemirror_mode": {
    "name": "ipython",
    "version": 3
   },
   "file_extension": ".py",
   "mimetype": "text/x-python",
   "name": "python",
   "nbconvert_exporter": "python",
   "pygments_lexer": "ipython3",
   "version": "3.11.2"
  }
 },
 "nbformat": 4,
 "nbformat_minor": 5
}
