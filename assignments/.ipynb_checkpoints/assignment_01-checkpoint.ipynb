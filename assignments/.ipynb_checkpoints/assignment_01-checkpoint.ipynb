{
 "cells": [
  {
   "cell_type": "markdown",
   "metadata": {},
   "source": [
    "1. Create a variable named `pi` and store the value `22/7` in it. Now check the data type of this variable."
   ]
  },
  {
   "cell_type": "code",
   "execution_count": 1,
   "metadata": {},
   "outputs": [
    {
     "data": {
      "text/plain": [
       "float"
      ]
     },
     "execution_count": 1,
     "metadata": {},
     "output_type": "execute_result"
    }
   ],
   "source": [
    "pi = 22/7\n",
    "type(pi)"
   ]
  },
  {
   "cell_type": "markdown",
   "metadata": {},
   "source": [
    "2. Create a variable called `for` and assign it a value `4`. See what happens and find out the reason behind the behavior that you see"
   ]
  },
  {
   "cell_type": "code",
   "execution_count": 18,
   "metadata": {},
   "outputs": [],
   "source": [
    "# for = 4"
   ]
  },
  {
   "cell_type": "markdown",
   "metadata": {},
   "source": [
    "The code above is commented since this won't work. \n",
    "Because `for` is a reserved keyword in python which is used to create for-loop"
   ]
  },
  {
   "cell_type": "markdown",
   "metadata": {},
   "source": [
    "3. Store the \n",
    "   - principal amount (P)\n",
    "   - rate of interest (R)\n",
    "   - time(T)    \n",
    " \n",
    "in different variables and then calculate the Simple Interest for 3 years (T) Formula: \n",
    "\n",
    "Simple Interest = `P x R x T / 100`"
   ]
  },
  {
   "cell_type": "code",
   "execution_count": 19,
   "metadata": {},
   "outputs": [
    {
     "data": {
      "text/plain": [
       "15000.0"
      ]
     },
     "execution_count": 19,
     "metadata": {},
     "output_type": "execute_result"
    }
   ],
   "source": [
    "# Setting random value for \n",
    "# - P (principle), R (rate of interest), T (time)\n",
    "P = 50000   # BDT (Bangladeshi Taka)\n",
    "R = 10      # %\n",
    "T = 3       # Years (mentioned)\n",
    "\n",
    "interest = P*R*T/100\n",
    "interest"
   ]
  },
  {
   "cell_type": "markdown",
   "metadata": {},
   "source": [
    "4. If you cross a 490-meter-long street in 7 minutes, then what is your speed in meters per second? Print your answer without any decimal point in it (Use format() function).\n",
    "Formula: `Speed = Distance / Time`"
   ]
  },
  {
   "cell_type": "code",
   "execution_count": 28,
   "metadata": {},
   "outputs": [
    {
     "data": {
      "text/plain": [
       "'1'"
      ]
     },
     "execution_count": 28,
     "metadata": {},
     "output_type": "execute_result"
    }
   ],
   "source": [
    "distance = 490              # meters\n",
    "time = 7                    # minutes\n",
    "time_in_seconds = time*60   # time in seconds\n",
    "\n",
    "# speed in meters per second\n",
    "speed = distance/time_in_seconds\n",
    "\"{s}\".format(s=int(speed))"
   ]
  },
  {
   "cell_type": "markdown",
   "metadata": {},
   "source": [
    "5. Create two variables to store how many fruits and vegetables you eat in a day. Now Print \"I eat x vegetables and y fruits daily\" where x and y present vegetables and fruits that you eat every day. Use python f string for this."
   ]
  },
  {
   "cell_type": "code",
   "execution_count": 1,
   "metadata": {},
   "outputs": [
    {
     "data": {
      "text/plain": [
       "'I eat 10 vegetables and 20 fruits daily'"
      ]
     },
     "execution_count": 1,
     "metadata": {},
     "output_type": "execute_result"
    }
   ],
   "source": [
    "x = 10 # vegetables\n",
    "y = 20 # fruits\n",
    "\n",
    "f\"I eat {x} vegetables and {y} fruits daily\""
   ]
  },
  {
   "cell_type": "markdown",
   "metadata": {},
   "source": [
    "6. You have created a string variable called string= ”There are 9 planets in the solar system”. After some time, you have realized that your sentence is incorrect and there are only 8 planets, now correct your sentence by replacing the incorrect words."
   ]
  },
  {
   "cell_type": "code",
   "execution_count": 3,
   "metadata": {},
   "outputs": [
    {
     "data": {
      "text/plain": [
       "'There are 8 planets in the solar system'"
      ]
     },
     "execution_count": 3,
     "metadata": {},
     "output_type": "execute_result"
    }
   ],
   "source": [
    "string = \"There are 9 planets in the solar system\"\n",
    "correct_string = string.replace('9','8')\n",
    "correct_string"
   ]
  },
  {
   "cell_type": "markdown",
   "metadata": {},
   "source": [
    "7. Write a program that can tell you your BMI Category.\n",
    "Ask user to enter height in Meter\n",
    "Ask user to enter weight in KG\n",
    "Calculate the BMI(Body Mass Index) = weight /(height)**2 and store it in a variable    \n",
    "\n",
    "- If the BMI is 30 or greater, print “Obesity”\n",
    "- If the BMI is in between 25 and 29, print “Overweight”\n",
    "- If the BMI is in between 18.5 and 25, print “Normal”\n",
    "- If the BMI is less than 18.5, print “Underweight”"
   ]
  },
  {
   "cell_type": "code",
   "execution_count": 2,
   "metadata": {},
   "outputs": [
    {
     "name": "stdin",
     "output_type": "stream",
     "text": [
      "Enter height:  1.673\n",
      "Enter weight:  75\n"
     ]
    },
    {
     "name": "stdout",
     "output_type": "stream",
     "text": [
      "Overweight\n"
     ]
    }
   ],
   "source": [
    "height = float(input(\"Enter height: \"))\n",
    "weight = float(input(\"Enter weight: \"))\n",
    "\n",
    "bmi = weight/((height)**2)\n",
    "\n",
    "if bmi >= 30:\n",
    "    print(\"Obesity\")\n",
    "elif bmi >= 25 and bmi <30:\n",
    "    print(\"Overweight\")\n",
    "elif bmi >= 18.5 and bmi <25:\n",
    "    print(\"Normal\")\n",
    "elif bmi < 18.5:\n",
    "    print(\"Underweight\")"
   ]
  },
  {
   "cell_type": "code",
   "execution_count": null,
   "metadata": {},
   "outputs": [],
   "source": []
  }
 ],
 "metadata": {
  "kernelspec": {
   "display_name": "Python 3 (ipykernel)",
   "language": "python",
   "name": "python3"
  },
  "language_info": {
   "codemirror_mode": {
    "name": "ipython",
    "version": 3
   },
   "file_extension": ".py",
   "mimetype": "text/x-python",
   "name": "python",
   "nbconvert_exporter": "python",
   "pygments_lexer": "ipython3",
   "version": "3.11.2"
  }
 },
 "nbformat": 4,
 "nbformat_minor": 4
}
