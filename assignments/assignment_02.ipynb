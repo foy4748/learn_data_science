{
 "cells": [
  {
   "cell_type": "markdown",
   "id": "ccfc4258-0359-4e76-9ea9-5a2c948b7653",
   "metadata": {},
   "source": [
    "# Loop problems"
   ]
  },
  {
   "cell_type": "markdown",
   "id": "de0251e2-6d35-4035-b05b-40ea4751c362",
   "metadata": {},
   "source": [
    "**1. Write a Python program to print the following pattern.**\n",
    "```\n",
    "1 2 3 4 5\n",
    "1 2 3 4\n",
    "1 2 3\n",
    "1 2\n",
    "1\n",
    "```"
   ]
  },
  {
   "cell_type": "code",
   "execution_count": 1,
   "id": "e34e677e-2637-4c34-a19d-e11071678b09",
   "metadata": {},
   "outputs": [
    {
     "name": "stdout",
     "output_type": "stream",
     "text": [
      "1 2 3 4 5 \n",
      "1 2 3 4 \n",
      "1 2 3 \n",
      "1 2 \n",
      "1 \n"
     ]
    }
   ],
   "source": [
    "k = 5\n",
    "for i in range(1,k+1):\n",
    "    for j in range(1,k+1):\n",
    "        print(j,end=' ')\n",
    "    print(\"\")\n",
    "    k = k - 1 # k--\n",
    "# Print numbers without linebreak : StackOverflow \n",
    "# https://stackoverflow.com/questions/493386/how-to-print-without-a-newline-or-space"
   ]
  },
  {
   "cell_type": "markdown",
   "id": "e924cc37-e31d-4d74-a54f-b782428d7be9",
   "metadata": {},
   "source": [
    "**2. Write a Python program to find the sum of all the numbers except odd numbers\n",
    "between 1 and 20 using a loop. Can you also do this using a while loop?**"
   ]
  },
  {
   "cell_type": "code",
   "execution_count": 4,
   "id": "0a472ec7-1d87-453a-8650-5a72a78af354",
   "metadata": {},
   "outputs": [
    {
     "data": {
      "text/plain": [
       "110"
      ]
     },
     "execution_count": 4,
     "metadata": {},
     "output_type": "execute_result"
    }
   ],
   "source": [
    "k = 20\n",
    "even_sum = 0\n",
    "while(k > 0):\n",
    "    # print(k,end=' ')\n",
    "    even_sum = even_sum + k\n",
    "    k = k - 2 # k -= 2\n",
    "\n",
    "# Considered 1 and 20 inclusive\n",
    "even_sum"
   ]
  },
  {
   "cell_type": "markdown",
   "id": "b964dfe2-7bed-4494-a35b-a06b91cb6647",
   "metadata": {},
   "source": [
    "**3. After throwing the dice several times, you got this result**\n",
    "```python\n",
    "dice_result = [5,6,4,2,5,4,4,5,3,3,2,6,1,2,1,1,6,5]\n",
    "```\n",
    "Using a for loop find out the followings:    \n",
    "\n",
    "    1. How many times have you got 6s\n",
    "    2. How many times have you got 1s\n",
    "    3. How many times have you got 6s two times in a row"
   ]
  },
  {
   "cell_type": "code",
   "execution_count": 3,
   "id": "eac8e1b5-0b75-4d08-93cf-3131cdf60898",
   "metadata": {},
   "outputs": [
    {
     "name": "stdout",
     "output_type": "stream",
     "text": [
      "1. How many times have you got 6s ?\n",
      "Ans:  3\n",
      "\n",
      "2. How many times have you got 1s ?\n",
      "Ans:  3\n",
      "\n",
      "3. How many times have you got 6s two times in a row\n",
      "Ans:  0\n"
     ]
    }
   ],
   "source": [
    "# Given Dice Result\n",
    "dice_result = [5,6,4,2,5,4,4,5,3,3,2,6,1,2,1,1,6,5]\n",
    "\n",
    "# For testing if counting 6s in two in a row works\n",
    "# dice_result = [5,6,4,2,5,4,4,5,3,3,2,6,6,1,2,1,1,6,5]\n",
    "# dice_result = [5,6,6,4,2,6,6,6,5,3,3,2,6,6,1,2,1,1,6,5]\n",
    "# dice_result = [5,6,6,4,2,6,6,6,5,3,3,2,6,6,1,2,1,1,6,6]\n",
    "# dice_result = [6,6,6,6,6,6,6,6,6,4,6,6]\n",
    "\n",
    "# Keeps track of 6s\n",
    "isVisited = [False]*len(dice_result)\n",
    "\n",
    "counter = dict()\n",
    "two_in_a_row_count = 0\n",
    "\n",
    "\n",
    "for i , num in enumerate(dice_result):\n",
    "    counter[num] = counter.get(num,0) + 1\n",
    "    \n",
    "    currentIdx = i\n",
    "    if dice_result[i] == 6 and isVisited[i] is False:\n",
    "        count = 0\n",
    "        while currentIdx < len(dice_result) and dice_result[currentIdx] == 6:\n",
    "            isVisited[currentIdx] = True\n",
    "            count = count + 1\n",
    "            currentIdx = currentIdx + 1\n",
    "\n",
    "        if count == 2:\n",
    "            two_in_a_row_count = two_in_a_row_count + 1\n",
    "            \n",
    "\n",
    "\n",
    "    \n",
    "print(\"1. How many times have you got 6s ?\")\n",
    "print(\"Ans: \", counter.get(6,0))\n",
    "print()\n",
    "print(\"2. How many times have you got 1s ?\")\n",
    "print(\"Ans: \", counter.get(1,0))\n",
    "print()\n",
    "print(\"3. How many times have you got 6s two times in a row\")\n",
    "print(\"Ans: \", two_in_a_row_count)"
   ]
  },
  {
   "cell_type": "markdown",
   "id": "8c7ba381-b9fb-4b5e-b19f-1ee19bbbf503",
   "metadata": {},
   "source": [
    "\n",
    "\n",
    "    \n",
    "\n",
    "**4. Let's say you are doing push-ups and you have to complete 50 push-ups daily,\n",
    "write a program that**    \n",
    "\n",
    "        1. Upon completing 10 push-ups in a go, asks you, “Are you tired?”\n",
    "        \n",
    "        2. If you reply “yes” or “y” then it should break and print “You did total push-\n",
    "        ups.”\n",
    "        \n",
    "        For example: If you did only 30 push-ups and answered “yes” to your\n",
    "        \n",
    "        program. It will break the loop and print “You did a total of 30 push-\n",
    "        ups**”**\n",
    "        \n",
    "        3. If you reply “no” or “n” then it should continue and display how many push-\n",
    "        ups are remaining now after that ask you again “Are you tired?”\n",
    "        \n",
    "        For Example: if you answered “no” then it should display that 20 push-ups\n",
    "        are remaining and ask you again “Are you tired?”\n",
    "        4. If you complete all 50 push-ups, then it should print the “Congratulations!\n",
    "        You made it” and stopped the program."
   ]
  },
  {
   "cell_type": "code",
   "execution_count": 56,
   "id": "71de864d-611a-4c79-b17e-17ec92926630",
   "metadata": {},
   "outputs": [
    {
     "name": "stdin",
     "output_type": "stream",
     "text": [
      "Are you tired? n\n"
     ]
    },
    {
     "name": "stdout",
     "output_type": "stream",
     "text": [
      "40 push-ups are remaining\n"
     ]
    },
    {
     "name": "stdin",
     "output_type": "stream",
     "text": [
      "Are you tired? n\n"
     ]
    },
    {
     "name": "stdout",
     "output_type": "stream",
     "text": [
      "30 push-ups are remaining\n"
     ]
    },
    {
     "name": "stdin",
     "output_type": "stream",
     "text": [
      "Are you tired? y\n"
     ]
    },
    {
     "name": "stdout",
     "output_type": "stream",
     "text": [
      "You did total 30 push-ups.\n"
     ]
    }
   ],
   "source": [
    "push_ups = 0\n",
    "required_push_ups = 50\n",
    "while True:\n",
    "    if push_ups == required_push_ups:\n",
    "        print(\"Congratulations! You made it\")\n",
    "        break\n",
    "        \n",
    "    push_ups = push_ups + 1\n",
    "\n",
    "    if push_ups % 10 == 0:\n",
    "        res = input(\"Are you tired?\")\n",
    "        if res == \"yes\" or res == \"y\":\n",
    "            print(f\"You did total {push_ups} push-ups.\")\n",
    "            break\n",
    "        if res == \"no\" or res == \"n\":\n",
    "            print(f\"{required_push_ups - push_ups} push-ups are remaining\")\n",
    "\n"
   ]
  },
  {
   "cell_type": "markdown",
   "id": "1e93bb0a-2dfa-429e-883f-408d31fb8778",
   "metadata": {},
   "source": [
    "# Functions problems"
   ]
  },
  {
   "cell_type": "markdown",
   "id": "af221153-f703-464c-8176-1aa540704ca3",
   "metadata": {},
   "source": [
    "**1. Write a python function to check if any given number is a prime number `and` odd\n",
    "number?**"
   ]
  },
  {
   "cell_type": "code",
   "execution_count": 3,
   "id": "fce7bcf3-a8d3-4137-afe6-1830dabaa4a6",
   "metadata": {},
   "outputs": [
    {
     "name": "stdin",
     "output_type": "stream",
     "text": [
      "Enter a number:  3\n"
     ]
    },
    {
     "name": "stdout",
     "output_type": "stream",
     "text": [
      "YES\n"
     ]
    }
   ],
   "source": [
    "import math\n",
    "\n",
    "def isPrime_and_isOdd(n):\n",
    "    if n % 2 == 1:\n",
    "        endRange = int(math.sqrt(n))\n",
    "\n",
    "        for i in range(2, endRange+1):\n",
    "            if n % i == 0:\n",
    "                return False\n",
    "        return True\n",
    "\n",
    "    return False\n",
    "    \n",
    "# x = 103\n",
    "x = int(input(\"Enter a number: \"))\n",
    "if(isPrime_and_isOdd(x)):\n",
    "    print(\"YES\")\n",
    "else:\n",
    "    print(\"NO\")"
   ]
  },
  {
   "cell_type": "markdown",
   "id": "6d24eee5-2bc1-49c8-9f05-af2cc4ebf382",
   "metadata": {},
   "source": [
    "**2. Write a python function that will take n as input and print the pattern of n rows. If\n",
    "the n is even, then print it flipped.**\n",
    "\n",
    "**Example**:\n",
    "```\n",
    "n=3\n",
    "*\n",
    "* *\n",
    "* * *\n",
    "\n",
    "n=4\n",
    "* * * *\n",
    "* * *\n",
    "* *\n",
    "*\n",
    "```"
   ]
  },
  {
   "cell_type": "code",
   "execution_count": 21,
   "id": "c15d0333-2c03-4562-a6f4-e715ad12a909",
   "metadata": {},
   "outputs": [
    {
     "name": "stdout",
     "output_type": "stream",
     "text": [
      "n=3\n",
      "* \n",
      "* * \n",
      "* * * \n",
      "\n",
      "n=4\n",
      "* * * * \n",
      "* * * \n",
      "* * \n",
      "* \n",
      "\n"
     ]
    }
   ],
   "source": [
    "def pattern(n):\n",
    "    print(f\"n={n}\")\n",
    "    if n % 2 == 0:\n",
    "        k = n\n",
    "        for i in range(n):\n",
    "            for j in range(k):\n",
    "                print(\"*\",end=' ')\n",
    "            print()\n",
    "            k = k - 1\n",
    "    else:\n",
    "        for i in range(n):\n",
    "            for j in range(i+1):\n",
    "                print(\"*\",end=' ')\n",
    "            print()\n",
    "    print()\n",
    "                \n",
    "pattern(3)\n",
    "pattern(4)\n"
   ]
  },
  {
   "cell_type": "markdown",
   "id": "9c5ee919-432f-4261-8bba-8b5ddf338c65",
   "metadata": {},
   "source": [
    "**3. Master Yoda speaks a sentence in a different order. Let's say you want to\n",
    "convert a sentence to Yoda’s speech. Write a function named master_yoda\n",
    "which will take **a string as input** and return the output after **reversing the words** of\n",
    "the sentence.**"
   ]
  },
  {
   "cell_type": "code",
   "execution_count": 27,
   "id": "716600a6-99fc-4f0d-98c5-468d90ea0b61",
   "metadata": {},
   "outputs": [
    {
     "name": "stdout",
     "output_type": "stream",
     "text": [
      "Function yoga master testing\n"
     ]
    }
   ],
   "source": [
    "def master_yoda(given_sentence):\n",
    "    result_arr = given_sentence.split(\" \")\n",
    "    result_arr.reverse()\n",
    "    result = \" \".join(result_arr).capitalize()\n",
    "    print(result)\n",
    "\n",
    "master_yoda(\"Testing master yoga function\")"
   ]
  },
  {
   "cell_type": "markdown",
   "id": "a61de0b3-8779-423c-be40-6c77a338f22c",
   "metadata": {},
   "source": [
    "**4. Write a function pay_bill which will take a list of expenses, percent commission,\n",
    "and a special offer amount**\n",
    "\n",
    "        1. If you don’t pass percent_commission it should be always 9.8%\n",
    "   \n",
    "        2. The Last argument special_offer_amount is not a required argument, you\n",
    "        don’t need to pass it. Make it an optional parameter.\n",
    "   \n",
    "        3. If you want to give a special offer to the user, then you have to pass the\n",
    "        third argument special_offer_amount. If the user makes the purchase\n",
    "        greater than special_offer_amount, then give him an extra commission of\n",
    "        1.2%.\n",
    "\n",
    "        4. Calculate the final payable price of the bill and return it from the function."
   ]
  },
  {
   "cell_type": "code",
   "execution_count": 49,
   "id": "551359de-9b1a-4ef6-b643-9f5058a4a866",
   "metadata": {},
   "outputs": [
    {
     "name": "stdout",
     "output_type": "stream",
     "text": [
      "801.99\n"
     ]
    }
   ],
   "source": [
    "def pay_bill(expenses, percent_commission=9.8, special_offer_amount=0):\n",
    "    total_expenses = sum(expenses)\n",
    "    commission = percent_commission*total_expenses/100\n",
    "    special_commission = 0\n",
    "    if special_offer_amount != 0 and total_expenses > special_offer_amount:\n",
    "        special_commission = total_expenses * 1.2 / 100\n",
    "    payable_price = total_expenses - commission - special_commission\n",
    "    return payable_price\n",
    "\n",
    "\n",
    "# Main\n",
    "\n",
    "test_expenses = [12,40,60,610, 133]\n",
    "'''\n",
    "print(pay_bill(test_expenses))\n",
    "print(pay_bill(test_expenses, 5))\n",
    "'''\n",
    "print(pay_bill(test_expenses, 5, 500))"
   ]
  },
  {
   "cell_type": "code",
   "execution_count": null,
   "id": "72f47e87-7ad1-4240-8fb9-b0afc7344c8c",
   "metadata": {},
   "outputs": [],
   "source": []
  }
 ],
 "metadata": {
  "kernelspec": {
   "display_name": "Python 3 (ipykernel)",
   "language": "python",
   "name": "python3"
  },
  "language_info": {
   "codemirror_mode": {
    "name": "ipython",
    "version": 3
   },
   "file_extension": ".py",
   "mimetype": "text/x-python",
   "name": "python",
   "nbconvert_exporter": "python",
   "pygments_lexer": "ipython3",
   "version": "3.11.2"
  }
 },
 "nbformat": 4,
 "nbformat_minor": 5
}
