{
 "cells": [
  {
   "cell_type": "markdown",
   "id": "ccfc4258-0359-4e76-9ea9-5a2c948b7653",
   "metadata": {},
   "source": [
    "# Loop problems"
   ]
  },
  {
   "cell_type": "markdown",
   "id": "de0251e2-6d35-4035-b05b-40ea4751c362",
   "metadata": {},
   "source": [
    "**1. Write a Python program to print the following pattern.**\n",
    "```\n",
    "1 2 3 4 5\n",
    "1 2 3 4\n",
    "1 2 3\n",
    "1 2\n",
    "1\n",
    "```"
   ]
  },
  {
   "cell_type": "code",
   "execution_count": 1,
   "id": "e34e677e-2637-4c34-a19d-e11071678b09",
   "metadata": {},
   "outputs": [
    {
     "name": "stdout",
     "output_type": "stream",
     "text": [
      "1 2 3 4 5 \n",
      "1 2 3 4 \n",
      "1 2 3 \n",
      "1 2 \n",
      "1 \n"
     ]
    }
   ],
   "source": [
    "k = 5\n",
    "for i in range(1,k+1):\n",
    "    for j in range(1,k+1):\n",
    "        print(j,end=' ')\n",
    "    print(\"\")\n",
    "    k = k - 1 # k--\n",
    "# Print numbers without linebreak : StackOverflow \n",
    "# https://stackoverflow.com/questions/493386/how-to-print-without-a-newline-or-space"
   ]
  },
  {
   "cell_type": "markdown",
   "id": "e924cc37-e31d-4d74-a54f-b782428d7be9",
   "metadata": {},
   "source": [
    "**2. Write a Python program to find the sum of all the numbers except odd numbers\n",
    "between 1 and 20 using a loop. Can you also do this using a while loop?**"
   ]
  },
  {
   "cell_type": "code",
   "execution_count": 4,
   "id": "0a472ec7-1d87-453a-8650-5a72a78af354",
   "metadata": {},
   "outputs": [
    {
     "data": {
      "text/plain": [
       "110"
      ]
     },
     "execution_count": 4,
     "metadata": {},
     "output_type": "execute_result"
    }
   ],
   "source": [
    "k = 20\n",
    "even_sum = 0\n",
    "while(k > 0):\n",
    "    # print(k,end=' ')\n",
    "    even_sum = even_sum + k\n",
    "    k = k - 2 # k -= 2\n",
    "\n",
    "# Considered 1 and 20 inclusive\n",
    "even_sum"
   ]
  },
  {
   "cell_type": "markdown",
   "id": "b964dfe2-7bed-4494-a35b-a06b91cb6647",
   "metadata": {},
   "source": [
    "3. After throwing the dice several times, you got this result,\n",
    "```python\n",
    "dice_result = [5,6,4,2,5,4,4,5,3,3,2,6,1,2,1,1,6,5]\n",
    "```\n",
    "Using a for loop find out the followings:    \n",
    "\n",
    "    1. How many times have you got 6s\n",
    "    2. How many times have you got 1s\n",
    "    3. How many times have you got 6s two times in a row"
   ]
  },
  {
   "cell_type": "code",
   "execution_count": 3,
   "id": "eac8e1b5-0b75-4d08-93cf-3131cdf60898",
   "metadata": {},
   "outputs": [
    {
     "name": "stdout",
     "output_type": "stream",
     "text": [
      "1. How many times have you got 6s ?\n",
      "Ans:  3\n",
      "\n",
      "2. How many times have you got 1s ?\n",
      "Ans:  3\n",
      "\n",
      "3. How many times have you got 6s two times in a row\n",
      "Ans:  0\n"
     ]
    }
   ],
   "source": [
    "# Given Dice Result\n",
    "dice_result = [5,6,4,2,5,4,4,5,3,3,2,6,1,2,1,1,6,5]\n",
    "\n",
    "# For testing if counting 6s in two in a row works\n",
    "# dice_result = [5,6,4,2,5,4,4,5,3,3,2,6,6,1,2,1,1,6,5]\n",
    "# dice_result = [5,6,6,4,2,6,6,6,5,3,3,2,6,6,1,2,1,1,6,5]\n",
    "# dice_result = [5,6,6,4,2,6,6,6,5,3,3,2,6,6,1,2,1,1,6,6]\n",
    "# dice_result = [6,6,6,6,6,6,6,6,6,4,6,6]\n",
    "\n",
    "# Keeps track of 6s\n",
    "isVisited = [False]*len(dice_result)\n",
    "\n",
    "counter = dict()\n",
    "two_in_a_row_count = 0\n",
    "\n",
    "\n",
    "for i , num in enumerate(dice_result):\n",
    "    counter[num] = counter.get(num,0) + 1\n",
    "    \n",
    "    currentIdx = i\n",
    "    if dice_result[i] == 6 and isVisited[i] is False:\n",
    "        count = 0\n",
    "        while currentIdx < len(dice_result) and dice_result[currentIdx] == 6:\n",
    "            isVisited[currentIdx] = True\n",
    "            count = count + 1\n",
    "            currentIdx = currentIdx + 1\n",
    "\n",
    "        if count == 2:\n",
    "            two_in_a_row_count = two_in_a_row_count + 1\n",
    "            \n",
    "\n",
    "\n",
    "    \n",
    "print(\"1. How many times have you got 6s ?\")\n",
    "print(\"Ans: \", counter.get(6,0))\n",
    "print()\n",
    "print(\"2. How many times have you got 1s ?\")\n",
    "print(\"Ans: \", counter.get(1,0))\n",
    "print()\n",
    "print(\"3. How many times have you got 6s two times in a row\")\n",
    "print(\"Ans: \", two_in_a_row_count)"
   ]
  },
  {
   "cell_type": "markdown",
   "id": "8c7ba381-b9fb-4b5e-b19f-1ee19bbbf503",
   "metadata": {},
   "source": [
    "4. Let's say you are doing push-ups and you have to complete 50 push-ups daily,\n",
    "write a program that,    \n",
    "\n",
    "        1. Upon completing 10 push-ups in a go, asks you, “Are you tired?”\n",
    "        \n",
    "        2. If you reply “yes” or “y” then it should break and print “You did total push-\n",
    "        ups.”\n",
    "        \n",
    "        For example: If you did only 30 push-ups and answered “yes” to your\n",
    "        \n",
    "        program. It will break the loop and print “You did a total of 30 push-\n",
    "        ups**”**\n",
    "        \n",
    "        3. If you reply “no” or “n” then it should continue and display how many push-\n",
    "        ups are remaining now after that ask you again “Are you tired?”\n",
    "        \n",
    "        For Example: if you answered “no” then it should display that 20 push-ups\n",
    "        are remaining and ask you again “Are you tired?”\n",
    "        4. If you complete all 50 push-ups, then it should print the “Congratulations!\n",
    "        You made it” and stopped the program."
   ]
  },
  {
   "cell_type": "code",
   "execution_count": null,
   "id": "59a4d6a1-b016-42fa-a2db-973e0574bbed",
   "metadata": {},
   "outputs": [],
   "source": []
  }
 ],
 "metadata": {
  "kernelspec": {
   "display_name": "Python 3 (ipykernel)",
   "language": "python",
   "name": "python3"
  },
  "language_info": {
   "codemirror_mode": {
    "name": "ipython",
    "version": 3
   },
   "file_extension": ".py",
   "mimetype": "text/x-python",
   "name": "python",
   "nbconvert_exporter": "python",
   "pygments_lexer": "ipython3",
   "version": "3.11.2"
  }
 },
 "nbformat": 4,
 "nbformat_minor": 5
}
