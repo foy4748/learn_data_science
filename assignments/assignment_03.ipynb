{
 "cells": [
  {
   "cell_type": "markdown",
   "id": "585c0a76-d5e6-40b6-a9a0-5292ad12f640",
   "metadata": {},
   "source": [
    "**1. Import NumPy as np**"
   ]
  },
  {
   "cell_type": "code",
   "execution_count": 1,
   "id": "4d21fbff-954e-461c-ab45-0964a5580360",
   "metadata": {},
   "outputs": [],
   "source": [
    "import numpy as np\n",
    "# [Bonus part]\n",
    "# ---------------\n",
    "# Setting seeding number\n",
    "seed_number = 4748"
   ]
  },
  {
   "cell_type": "markdown",
   "id": "e8bfcd79-ed5c-4ed8-8d27-d959905ca334",
   "metadata": {},
   "source": [
    "**2. Create an array of 10 zeros**"
   ]
  },
  {
   "cell_type": "code",
   "execution_count": 2,
   "id": "99a96174-f726-4041-a928-3f9fc9f90dbb",
   "metadata": {},
   "outputs": [
    {
     "data": {
      "text/plain": [
       "array([0., 0., 0., 0., 0., 0., 0., 0., 0., 0.])"
      ]
     },
     "execution_count": 2,
     "metadata": {},
     "output_type": "execute_result"
    }
   ],
   "source": [
    "zeros = np.zeros(10)\n",
    "zeros"
   ]
  },
  {
   "cell_type": "markdown",
   "id": "d2cc357a-52ce-4b4d-a01f-2c5fa45cddb7",
   "metadata": {},
   "source": [
    "**3. Create an array of 10 ones**"
   ]
  },
  {
   "cell_type": "code",
   "execution_count": 3,
   "id": "ed23f9b4-fa76-445c-94e6-7c9b13e1957e",
   "metadata": {},
   "outputs": [
    {
     "data": {
      "text/plain": [
       "array([1., 1., 1., 1., 1., 1., 1., 1., 1., 1.])"
      ]
     },
     "execution_count": 3,
     "metadata": {},
     "output_type": "execute_result"
    }
   ],
   "source": [
    "ones = np.ones(10)\n",
    "ones"
   ]
  },
  {
   "cell_type": "markdown",
   "id": "34d217b9-68e9-461f-b4a2-e935a5869f04",
   "metadata": {},
   "source": [
    "**4. Create an array of 10 fives**"
   ]
  },
  {
   "cell_type": "code",
   "execution_count": 4,
   "id": "4d16ce13-acad-400d-a475-e290b717ccb4",
   "metadata": {},
   "outputs": [
    {
     "data": {
      "text/plain": [
       "array([5., 5., 5., 5., 5., 5., 5., 5., 5., 5.])"
      ]
     },
     "execution_count": 4,
     "metadata": {},
     "output_type": "execute_result"
    }
   ],
   "source": [
    "fives = ones*5\n",
    "fives"
   ]
  },
  {
   "cell_type": "markdown",
   "id": "92a85566-8362-4f58-bea9-01baa9b75db7",
   "metadata": {},
   "source": [
    "**5. Create an array of the integers from 10 to 50**"
   ]
  },
  {
   "cell_type": "code",
   "execution_count": 5,
   "id": "c7e657da-14fe-4b73-a0b5-c12b7eec7b5a",
   "metadata": {},
   "outputs": [
    {
     "data": {
      "text/plain": [
       "array([10, 11, 12, 13, 14, 15, 16, 17, 18, 19, 20, 21, 22, 23, 24, 25, 26,\n",
       "       27, 28, 29, 30, 31, 32, 33, 34, 35, 36, 37, 38, 39, 40, 41, 42, 43,\n",
       "       44, 45, 46, 47, 48, 49, 50])"
      ]
     },
     "execution_count": 5,
     "metadata": {},
     "output_type": "execute_result"
    }
   ],
   "source": [
    "arr_10_to_50 = np.arange(10,50+1)\n",
    "arr_10_to_50"
   ]
  },
  {
   "cell_type": "markdown",
   "id": "13abfbad-2329-4e6e-b959-8ffa94a336cb",
   "metadata": {},
   "source": [
    "**6. Create an array of all the even integers from 10 to 50**"
   ]
  },
  {
   "cell_type": "code",
   "execution_count": 6,
   "id": "3868f1d0-8253-4d00-a94e-c29a83507f5e",
   "metadata": {},
   "outputs": [
    {
     "data": {
      "text/plain": [
       "array([10, 12, 14, 16, 18, 20, 22, 24, 26, 28, 30, 32, 34, 36, 38, 40, 42,\n",
       "       44, 46, 48, 50])"
      ]
     },
     "execution_count": 6,
     "metadata": {},
     "output_type": "execute_result"
    }
   ],
   "source": [
    "arr_10_to_50_even = arr_10_to_50[arr_10_to_50%2 == 0]\n",
    "arr_10_to_50_even"
   ]
  },
  {
   "cell_type": "markdown",
   "id": "fe2e7360-5186-4149-b228-381dfddf7b8e",
   "metadata": {},
   "source": [
    "**7. Create a 3x3 matrix with values ranging from 0 to 8**"
   ]
  },
  {
   "cell_type": "code",
   "execution_count": 7,
   "id": "b544f3e4-34a9-43f8-88c1-041527841bd9",
   "metadata": {},
   "outputs": [
    {
     "data": {
      "text/plain": [
       "array([[0, 1, 2],\n",
       "       [3, 4, 5],\n",
       "       [6, 7, 8]])"
      ]
     },
     "execution_count": 7,
     "metadata": {},
     "output_type": "execute_result"
    }
   ],
   "source": [
    "arr_3x3_0_to_8 = np.arange(9).reshape(3,3)\n",
    "arr_3x3_0_to_8 "
   ]
  },
  {
   "cell_type": "markdown",
   "id": "876d1682-7e25-4e22-a7e1-1f46386c2cd2",
   "metadata": {},
   "source": [
    "**8. Create a 3x3 identity matrix**"
   ]
  },
  {
   "cell_type": "code",
   "execution_count": 8,
   "id": "9d24abfd-d5a6-48f1-aa6a-2556b969aed0",
   "metadata": {},
   "outputs": [
    {
     "data": {
      "text/plain": [
       "array([[1., 0., 0.],\n",
       "       [0., 1., 0.],\n",
       "       [0., 0., 1.]])"
      ]
     },
     "execution_count": 8,
     "metadata": {},
     "output_type": "execute_result"
    }
   ],
   "source": [
    "arr_3x3_I = np.eye(3)\n",
    "arr_3x3_I"
   ]
  },
  {
   "cell_type": "markdown",
   "id": "e814e75b-cb2a-422c-b858-0508e1ca9ef6",
   "metadata": {},
   "source": [
    "**9. Use NumPy to generate a random number between 0 and 1 NOTE: Your result’s\n",
    "value should be different from the one shown below.**"
   ]
  },
  {
   "cell_type": "code",
   "execution_count": 9,
   "id": "ce06057f-82fa-4801-87e1-368f00ce507d",
   "metadata": {},
   "outputs": [
    {
     "data": {
      "text/plain": [
       "0.15815727288511572"
      ]
     },
     "execution_count": 9,
     "metadata": {},
     "output_type": "execute_result"
    }
   ],
   "source": [
    "np.random.rand()"
   ]
  },
  {
   "cell_type": "markdown",
   "id": "c05e91c7-ae38-4e98-9ac4-15f34566ef37",
   "metadata": {},
   "source": [
    "**10. Use NumPy to generate an array of 25 random numbers sampled from a standard\n",
    "normal distribution NOTE: Your result’s values should be different from the ones\n",
    "shown below.**"
   ]
  },
  {
   "cell_type": "code",
   "execution_count": 10,
   "id": "16ce4f46-04a3-4cc9-98db-573c45f0780b",
   "metadata": {},
   "outputs": [
    {
     "data": {
      "text/plain": [
       "array([-1.23936012, -0.77772429, -0.12467779, -1.50185234,  1.03465729,\n",
       "       -0.98253213,  0.27899244, -0.91417073,  1.08570574, -0.00836116,\n",
       "        0.14039756,  1.25083327,  1.27684865,  1.99208471,  0.24501879,\n",
       "       -0.54449944,  0.67699714,  0.32106698,  0.07027216,  2.2955637 ,\n",
       "       -1.06411614, -0.13239434, -1.30797458,  0.7109961 , -1.31181333])"
      ]
     },
     "execution_count": 10,
     "metadata": {},
     "output_type": "execute_result"
    }
   ],
   "source": [
    "# [Bonus part]\n",
    "# ---------------\n",
    "# Initiating seeding\n",
    "np.random.seed(seed_number) \n",
    "\n",
    "rand_normal_dist = np.random.randn(25)\n",
    "rand_normal_dist"
   ]
  },
  {
   "cell_type": "markdown",
   "id": "14cf3794-717b-4ec9-8943-9c913b9605e2",
   "metadata": {},
   "source": [
    "**11. Create the following matrix:**\n",
    "```python\n",
    "array([[0.01, 0.02, 0.03, 0.04, 0.05, 0.06, 0.07, 0.08, 0.09, 0.1 ],\n",
    "[0.11, 0.12, 0.13, 0.14, 0.15, 0.16, 0.17, 0.18, 0.19, 0.2 ],\n",
    "[0.21, 0.22, 0.23, 0.24, 0.25, 0.26, 0.27, 0.28, 0.29, 0.3 ],\n",
    "[0.31, 0.32, 0.33, 0.34, 0.35, 0.36, 0.37, 0.38, 0.39, 0.4 ],\n",
    "[0.41, 0.42, 0.43, 0.44, 0.45, 0.46, 0.47, 0.48, 0.49, 0.5 ],\n",
    "[0.51, 0.52, 0.53, 0.54, 0.55, 0.56, 0.57, 0.58, 0.59, 0.6 ],\n",
    "[0.61, 0.62, 0.63, 0.64, 0.65, 0.66, 0.67, 0.68, 0.69, 0.7 ],\n",
    "[0.71, 0.72, 0.73, 0.74, 0.75, 0.76, 0.77, 0.78, 0.79, 0.8 ],\n",
    "[0.81, 0.82, 0.83, 0.84, 0.85, 0.86, 0.87, 0.88, 0.89, 0.9 ],\n",
    "[0.91, 0.92, 0.93, 0.94, 0.95, 0.96, 0.97, 0.98, 0.99, 1. ]])\n",
    "```"
   ]
  },
  {
   "cell_type": "code",
   "execution_count": 11,
   "id": "7f391b2c-0e36-4f46-b424-b4e5133c29d7",
   "metadata": {},
   "outputs": [
    {
     "data": {
      "text/plain": [
       "array([[0.01, 0.02, 0.03, 0.04, 0.05, 0.06, 0.07, 0.08, 0.09, 0.1 ],\n",
       "       [0.11, 0.12, 0.13, 0.14, 0.15, 0.16, 0.17, 0.18, 0.19, 0.2 ],\n",
       "       [0.21, 0.22, 0.23, 0.24, 0.25, 0.26, 0.27, 0.28, 0.29, 0.3 ],\n",
       "       [0.31, 0.32, 0.33, 0.34, 0.35, 0.36, 0.37, 0.38, 0.39, 0.4 ],\n",
       "       [0.41, 0.42, 0.43, 0.44, 0.45, 0.46, 0.47, 0.48, 0.49, 0.5 ],\n",
       "       [0.51, 0.52, 0.53, 0.54, 0.55, 0.56, 0.57, 0.58, 0.59, 0.6 ],\n",
       "       [0.61, 0.62, 0.63, 0.64, 0.65, 0.66, 0.67, 0.68, 0.69, 0.7 ],\n",
       "       [0.71, 0.72, 0.73, 0.74, 0.75, 0.76, 0.77, 0.78, 0.79, 0.8 ],\n",
       "       [0.81, 0.82, 0.83, 0.84, 0.85, 0.86, 0.87, 0.88, 0.89, 0.9 ],\n",
       "       [0.91, 0.92, 0.93, 0.94, 0.95, 0.96, 0.97, 0.98, 0.99, 1.  ]])"
      ]
     },
     "execution_count": 11,
     "metadata": {},
     "output_type": "execute_result"
    }
   ],
   "source": [
    "np.arange(0.01,1.01,0.01).reshape(10,10)"
   ]
  },
  {
   "cell_type": "markdown",
   "id": "c8a4b9a1-1a0a-4640-b637-6a858b856c9c",
   "metadata": {},
   "source": [
    "**12. Create an array of 20 linearly spaced points between 0 and 1:**"
   ]
  },
  {
   "cell_type": "code",
   "execution_count": 12,
   "id": "a7615eae-76ad-4948-9d96-a2bcd1616553",
   "metadata": {},
   "outputs": [
    {
     "data": {
      "text/plain": [
       "array([0.        , 0.05263158, 0.10526316, 0.15789474, 0.21052632,\n",
       "       0.26315789, 0.31578947, 0.36842105, 0.42105263, 0.47368421,\n",
       "       0.52631579, 0.57894737, 0.63157895, 0.68421053, 0.73684211,\n",
       "       0.78947368, 0.84210526, 0.89473684, 0.94736842, 1.        ])"
      ]
     },
     "execution_count": 12,
     "metadata": {},
     "output_type": "execute_result"
    }
   ],
   "source": [
    "np.linspace(0,1,20)"
   ]
  },
  {
   "cell_type": "markdown",
   "id": "e7d7c417-4fba-46a7-a836-94858b7ffc75",
   "metadata": {},
   "source": [
    "**0.1 Numpy Indexing and Selection**    \n",
    "Now you will be given a starting matrix (be sure to run the cell below!), and be asked to replicate\n",
    "the resulting matrix outputs:"
   ]
  },
  {
   "cell_type": "code",
   "execution_count": 13,
   "id": "551235ac-1476-4489-af57-0fdaad3774c1",
   "metadata": {},
   "outputs": [
    {
     "data": {
      "text/plain": [
       "array([[ 1,  2,  3,  4,  5],\n",
       "       [ 6,  7,  8,  9, 10],\n",
       "       [11, 12, 13, 14, 15],\n",
       "       [16, 17, 18, 19, 20],\n",
       "       [21, 22, 23, 24, 25]])"
      ]
     },
     "execution_count": 13,
     "metadata": {},
     "output_type": "execute_result"
    }
   ],
   "source": [
    "mat = np.arange(1,26).reshape(5,5)\n",
    "mat"
   ]
  },
  {
   "cell_type": "markdown",
   "id": "17b9ca18-36b9-4180-aa74-a1b5bb25a338",
   "metadata": {},
   "source": [
    "\n",
    "**13. Write code that reproduces the output shown below.**\n",
    "```python\n",
    "array([[12, 13, 14, 15],\n",
    "    [17, 18, 19, 20],\n",
    "    [22, 23, 24, 25]])\n",
    "```\n",
    "**⚠Be careful not to run the\n",
    "cell immediately above the output, otherwise you won’t be able to see the output any\n",
    "more.**    \n"
   ]
  },
  {
   "cell_type": "code",
   "execution_count": 14,
   "id": "bdcbf725-8d99-4dec-b899-519dc84973ea",
   "metadata": {},
   "outputs": [
    {
     "data": {
      "text/plain": [
       "array([[12, 13, 14, 15],\n",
       "       [17, 18, 19, 20],\n",
       "       [22, 23, 24, 25]])"
      ]
     },
     "execution_count": 14,
     "metadata": {},
     "output_type": "execute_result"
    }
   ],
   "source": [
    "mat[2:,1:]"
   ]
  },
  {
   "cell_type": "markdown",
   "id": "d670ccc5-f7c0-41a1-89b9-03d62a31060e",
   "metadata": {},
   "source": [
    "**14. Write code that reproduces the output shown below.**    "
   ]
  },
  {
   "cell_type": "code",
   "execution_count": 15,
   "id": "ff2f68f9-f483-4145-99b4-65bc86e201d0",
   "metadata": {},
   "outputs": [
    {
     "data": {
      "text/plain": [
       "20"
      ]
     },
     "execution_count": 15,
     "metadata": {},
     "output_type": "execute_result"
    }
   ],
   "source": [
    "mat[3][4]"
   ]
  },
  {
   "cell_type": "markdown",
   "id": "c62c64ff-6c38-4d1f-8ec6-448a9f66787b",
   "metadata": {},
   "source": [
    "**15. Write code that reproduces the output shown below.**    \n",
    "```python\n",
    "array([[ 2],\n",
    "       [ 7],\n",
    "       [12]])\n",
    "```"
   ]
  },
  {
   "cell_type": "code",
   "execution_count": 16,
   "id": "bd08f061-b082-4729-8b48-e37a7ccd318a",
   "metadata": {},
   "outputs": [
    {
     "data": {
      "text/plain": [
       "array([[ 2],\n",
       "       [ 7],\n",
       "       [12]])"
      ]
     },
     "execution_count": 16,
     "metadata": {},
     "output_type": "execute_result"
    }
   ],
   "source": [
    "mat[0:3,1:2]"
   ]
  },
  {
   "cell_type": "markdown",
   "id": "0433ec2e-9d1f-4c27-a2a3-46647c1e79d5",
   "metadata": {},
   "source": [
    "**16. Write code that reproduces the output shown below.**  \n",
    "```python\n",
    "array([21, 22, 23, 24, 25])\n",
    "```"
   ]
  },
  {
   "cell_type": "code",
   "execution_count": 17,
   "id": "ec48960e-4a40-43a3-9c71-06192ccaea14",
   "metadata": {},
   "outputs": [
    {
     "data": {
      "text/plain": [
       "array([21, 22, 23, 24, 25])"
      ]
     },
     "execution_count": 17,
     "metadata": {},
     "output_type": "execute_result"
    }
   ],
   "source": [
    "mat[4]"
   ]
  },
  {
   "cell_type": "markdown",
   "id": "0ffc5de2-698f-4fd9-b757-f6eebeb089a2",
   "metadata": {},
   "source": [
    "**17. Write code that reproduces the output shown below.** \n",
    "```python\n",
    "array([[16, 17, 18, 19, 20],\n",
    "       [21, 22, 23, 24, 25]])\n",
    "```"
   ]
  },
  {
   "cell_type": "code",
   "execution_count": 18,
   "id": "bab55849-6d2c-4fd7-b424-7360c6df051f",
   "metadata": {},
   "outputs": [
    {
     "data": {
      "text/plain": [
       "array([[16, 17, 18, 19, 20],\n",
       "       [21, 22, 23, 24, 25]])"
      ]
     },
     "execution_count": 18,
     "metadata": {},
     "output_type": "execute_result"
    }
   ],
   "source": [
    "mat[3:]"
   ]
  },
  {
   "cell_type": "markdown",
   "id": "06b36b01-3b1b-472f-81d3-87ab60811250",
   "metadata": {},
   "source": [
    "**0.2 NumPy Operations**    \n",
    "**18. Get the sum of all the values in mat**     "
   ]
  },
  {
   "cell_type": "code",
   "execution_count": 19,
   "id": "25df366d-bcbc-4258-8e66-21c88fcdb609",
   "metadata": {},
   "outputs": [
    {
     "data": {
      "text/plain": [
       "325"
      ]
     },
     "execution_count": 19,
     "metadata": {},
     "output_type": "execute_result"
    }
   ],
   "source": [
    "mat.sum()"
   ]
  },
  {
   "cell_type": "markdown",
   "id": "875efaf8-0cff-4d0f-8184-b5e24465e171",
   "metadata": {},
   "source": [
    "**19. Get the standard deviation of the values in mat**  "
   ]
  },
  {
   "cell_type": "code",
   "execution_count": 20,
   "id": "b99926ad-6e77-413a-82f7-b83af7b1442a",
   "metadata": {},
   "outputs": [
    {
     "data": {
      "text/plain": [
       "7.211102550927978"
      ]
     },
     "execution_count": 20,
     "metadata": {},
     "output_type": "execute_result"
    }
   ],
   "source": [
    "mat.std()"
   ]
  },
  {
   "cell_type": "markdown",
   "id": "51e176d3-6dd5-4f7a-a440-8508d99f63bd",
   "metadata": {},
   "source": [
    "**20. Get the sum of all the columns in mat**     "
   ]
  },
  {
   "cell_type": "code",
   "execution_count": 21,
   "id": "1e572ec8-6345-4b1e-bb79-bc9cab2f535b",
   "metadata": {},
   "outputs": [
    {
     "data": {
      "text/plain": [
       "array([55, 60, 65, 70, 75])"
      ]
     },
     "execution_count": 21,
     "metadata": {},
     "output_type": "execute_result"
    }
   ],
   "source": [
    "mat.sum(axis=0)"
   ]
  },
  {
   "cell_type": "markdown",
   "id": "040d7338-091f-474c-bce6-dcd3abe2f46e",
   "metadata": {},
   "source": [
    "**21. [Bonus] We worked a lot with random data with numpy, but is there a way we can insure that we always\n",
    "get the same random numbers?**"
   ]
  },
  {
   "cell_type": "markdown",
   "id": "27b6b634-671e-4e7e-8bfc-aab347cecb53",
   "metadata": {},
   "source": [
    "* Yes. By seeding the random number.\n",
    "* Called `np.random.seed(seed_number)` line in the question 10, so that Answer 10 will always reproduce same set of random numbers regardless of executing environment\n",
    "\n",
    "* Tested the code\n",
    "    * Restarting the Kernel\n",
    "    * Shutting down the whole book then tried again"
   ]
  },
  {
   "cell_type": "code",
   "execution_count": null,
   "id": "79c4add5-cf6d-4c57-83a9-8df357e01e87",
   "metadata": {},
   "outputs": [],
   "source": []
  }
 ],
 "metadata": {
  "kernelspec": {
   "display_name": "Python 3 (ipykernel)",
   "language": "python",
   "name": "python3"
  },
  "language_info": {
   "codemirror_mode": {
    "name": "ipython",
    "version": 3
   },
   "file_extension": ".py",
   "mimetype": "text/x-python",
   "name": "python",
   "nbconvert_exporter": "python",
   "pygments_lexer": "ipython3",
   "version": "3.11.2"
  }
 },
 "nbformat": 4,
 "nbformat_minor": 5
}
